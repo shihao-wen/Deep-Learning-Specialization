{
 "cells": [
  {
   "cell_type": "code",
   "execution_count": 80,
   "metadata": {
    "collapsed": true
   },
   "outputs": [],
   "source": [
    "s = 'abcbaa'"
   ]
  },
  {
   "cell_type": "code",
   "execution_count": 81,
   "metadata": {
    "collapsed": false
   },
   "outputs": [
    {
     "data": {
      "text/plain": [
       "False"
      ]
     },
     "execution_count": 81,
     "metadata": {},
     "output_type": "execute_result"
    }
   ],
   "source": [
    "s == \"\""
   ]
  },
  {
   "cell_type": "code",
   "execution_count": 82,
   "metadata": {
    "collapsed": true
   },
   "outputs": [],
   "source": [
    "def longestPalindrome(s):\n",
    "        # write your code here\n",
    "        if s == '':\n",
    "            return s\n",
    "        len_s = len(s)\n",
    "        string = s[0]\n",
    "        for i in range(len_s):\n",
    "            l, j, k = 1, i, i\n",
    "            if i < len_s - 1 and s[i] == s[i+1]:\n",
    "                k += 1\n",
    "                l += 1\n",
    "                while (j > 0 and k < len_s - 1):\n",
    "                    if s[j-1] != s[k+1]:\n",
    "                        break\n",
    "                    k += 1\n",
    "                    j -= 1\n",
    "                    l += 2\n",
    "                if l > len(string):\n",
    "                    string = s[j:k+1]\n",
    "            while (j > 0 and k < len_s - 1):\n",
    "                if s[j-1] != s[k+1]:\n",
    "                    break\n",
    "                k += 1\n",
    "                j -= 1\n",
    "                l += 2\n",
    "            if l > len(string):\n",
    "                string = s[j:k+1]\n",
    "        return string"
   ]
  },
  {
   "cell_type": "code",
   "execution_count": 83,
   "metadata": {
    "collapsed": false
   },
   "outputs": [
    {
     "data": {
      "text/plain": [
       "'abcba'"
      ]
     },
     "execution_count": 83,
     "metadata": {},
     "output_type": "execute_result"
    }
   ],
   "source": [
    "longestPalindrome(s)"
   ]
  },
  {
   "cell_type": "code",
   "execution_count": null,
   "metadata": {
    "collapsed": true
   },
   "outputs": [],
   "source": []
  }
 ],
 "metadata": {
  "kernelspec": {
   "display_name": "Python 3",
   "language": "python",
   "name": "python3"
  },
  "language_info": {
   "codemirror_mode": {
    "name": "ipython",
    "version": 3
   },
   "file_extension": ".py",
   "mimetype": "text/x-python",
   "name": "python",
   "nbconvert_exporter": "python",
   "pygments_lexer": "ipython3",
   "version": "3.5.2"
  }
 },
 "nbformat": 4,
 "nbformat_minor": 1
}
